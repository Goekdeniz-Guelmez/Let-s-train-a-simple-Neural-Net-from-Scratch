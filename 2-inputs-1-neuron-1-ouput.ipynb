{
 "cells": [
  {
   "cell_type": "markdown",
   "metadata": {},
   "source": [
    "# Part 1\n",
    "\n",
    "We will train a single Neuron with one input and output."
   ]
  },
  {
   "cell_type": "markdown",
   "metadata": {},
   "source": [
    "Let's start by defining our input and output."
   ]
  },
  {
   "cell_type": "code",
   "execution_count": null,
   "metadata": {},
   "outputs": [],
   "source": [
    "input1 = 1\n",
    "input2 = 0\n",
    "expected_ouput = 0"
   ]
  },
  {
   "cell_type": "markdown",
   "metadata": {},
   "source": [
    "# Creating the Neuron\n",
    "\n",
    "The first time a Neuron is created, it gets a randomly assigned values for its weight and bias.\n",
    "The number of weights is the same as the inputs and every Neuron get's one bias, you can also chose to leave the bias out. So therefore, whe need two weights and one bias."
   ]
  },
  {
   "cell_type": "code",
   "execution_count": null,
   "metadata": {},
   "outputs": [],
   "source": [
    "weight1 = 0.4\n",
    "weight2 = -1.2\n",
    "bias = 1"
   ]
  }
 ],
 "metadata": {
  "language_info": {
   "name": "python"
  }
 },
 "nbformat": 4,
 "nbformat_minor": 2
}
