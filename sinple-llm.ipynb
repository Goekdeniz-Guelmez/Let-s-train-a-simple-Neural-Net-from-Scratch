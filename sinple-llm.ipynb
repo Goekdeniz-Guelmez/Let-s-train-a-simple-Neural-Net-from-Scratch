{
 "cells": [
  {
   "cell_type": "markdown",
   "metadata": {},
   "source": [
    "## Import the libraries"
   ]
  },
  {
   "cell_type": "code",
   "execution_count": null,
   "metadata": {},
   "outputs": [],
   "source": [
    "from transformers import AutoTokenizer\n",
    "import torch\n",
    "import torch.nn as nn"
   ]
  },
  {
   "cell_type": "markdown",
   "metadata": {},
   "source": [
    "# Params"
   ]
  },
  {
   "cell_type": "code",
   "execution_count": null,
   "metadata": {},
   "outputs": [],
   "source": [
    "embeddings_dimension = 16 # also known as \"hidden_size\" in hugginface\n",
    "num_attention_heads = 2\n",
    "num_transformer_blocks = 2\n",
    "max_context_lenght = 25 # also known as \"max_position_embeddings\" in hugginface\n",
    "vocab_size = 0 # Set it to zero because it's going to update it later"
   ]
  },
  {
   "cell_type": "markdown",
   "metadata": {},
   "source": [
    "# Tokenisation"
   ]
  },
  {
   "cell_type": "code",
   "execution_count": 1,
   "metadata": {},
   "outputs": [
    {
     "name": "stdout",
     "output_type": "stream",
     "text": [
      "12\n"
     ]
    }
   ],
   "source": [
    "input_text = \"This is a input text\"\n",
    "\n",
    "# Here w create the Tokenizer\n",
    "chars = sorted(list(set(input_text)))\n",
    "vocab_size = len(chars)\n",
    "print(f\"vocab size: {vocab_size}\")\n",
    "\n",
    "# create a mapping from characters to integers\n",
    "stoi = { ch:i for i,ch in enumerate(chars) }\n",
    "itos = { i:ch for i,ch in enumerate(chars) }\n",
    "tokenize = lambda s: [stoi[c] for c in s] # tokenizer: take a string, output a list of integers\n",
    "detokenize = lambda l: ''.join([itos[i] for i in l]) # detokenizer: take a list of integers, output a string"
   ]
  },
  {
   "cell_type": "code",
   "execution_count": 6,
   "metadata": {},
   "outputs": [
    {
     "name": "stdout",
     "output_type": "stream",
     "text": [
      "The tokenized Tensor: [1, 4, 5, 8, 0, 5, 8, 0, 2, 0, 5, 6, 7, 10, 9, 0, 9, 3, 11, 9]\n",
      "The context size of the current input text is: 20\n",
      "The detokenized Tensor: \"This is a input text\"\n"
     ]
    }
   ],
   "source": [
    "tokenized_input = tokenize(input_text)\n",
    "\n",
    "print(f\"The tokenized Tensor: {tokenized_input}\")\n",
    "print(f\"The context size of the current input text is: {len(tokenized_input)}\")\n",
    "print(f\"The detokenized Tensor: \\\"{detokenize(tokenized_input)}\\\"\")"
   ]
  },
  {
   "cell_type": "markdown",
   "metadata": {},
   "source": [
    "# Create Embeddings"
   ]
  },
  {
   "cell_type": "code",
   "execution_count": null,
   "metadata": {},
   "outputs": [],
   "source": [
    "embeddings = nn"
   ]
  }
 ],
 "metadata": {
  "kernelspec": {
   "display_name": "base",
   "language": "python",
   "name": "python3"
  },
  "language_info": {
   "codemirror_mode": {
    "name": "ipython",
    "version": 3
   },
   "file_extension": ".py",
   "mimetype": "text/x-python",
   "name": "python",
   "nbconvert_exporter": "python",
   "pygments_lexer": "ipython3",
   "version": "3.11.5"
  }
 },
 "nbformat": 4,
 "nbformat_minor": 2
}
